{
 "cells": [
  {
   "cell_type": "code",
   "execution_count": 1,
   "metadata": {},
   "outputs": [
    {
     "name": "stdout",
     "output_type": "stream",
     "text": [
      "█\r"
     ]
    }
   ],
   "source": [
    "import itchat"
   ]
  },
  {
   "cell_type": "code",
   "execution_count": 2,
   "metadata": {},
   "outputs": [],
   "source": [
    "import os"
   ]
  },
  {
   "cell_type": "code",
   "execution_count": 3,
   "metadata": {},
   "outputs": [],
   "source": [
    "import time"
   ]
  },
  {
   "cell_type": "code",
   "execution_count": null,
   "metadata": {},
   "outputs": [],
   "source": [
    "import cv2"
   ]
  },
  {
   "cell_type": "code",
   "execution_count": null,
   "metadata": {},
   "outputs": [
    {
     "name": "stderr",
     "output_type": "stream",
     "text": [
      "Getting uuid of QR code.\n",
      "Downloading QR code.\n",
      "Please scan the QR code to log in.\n",
      "Please press confirm on your phone.\n",
      "Loading the contact, this may take a little while.\n",
      "Login successfully as Grayson 峰\n",
      "Start auto replying.\n"
     ]
    }
   ],
   "source": [
    "sendMsg = u\"{消息助手}：暂时无法回复\"\n",
    "usageMsg = u\"使用方法：\\n1.运行CMD命令：cmd xxx (xxx为命令)\\n\" \\\n",
    "           u\"-例如关机命令:\\ncmd shutdown -s -t 0 \\n\" \\\n",
    "           u\"2.获取当前电脑用户：cap\\n3.启用消息助手(默认关闭)：ast\\n\" \\\n",
    "           u\"4.关闭消息助手：astc\"\n",
    "flag = 0 #消息助手开关\n",
    "nowTime = time.localtime()\n",
    "filename = str(nowTime.tm_mday)+str(nowTime.tm_hour)+str(nowTime.tm_min)+str(nowTime.tm_sec)+\".txt\"\n",
    "myfile = open(filename, 'w')\n",
    "\n",
    "@itchat.msg_register('Text')\n",
    "def text_reply(msg):\n",
    "    global flag\n",
    "    message = msg['Text']\n",
    "    fromName = msg['FromUserName']\n",
    "    toName = msg['ToUserName']\n",
    "\n",
    "    if toName == \"filehelper\":\n",
    "        if message == \"cap\":\n",
    "            cap = cv2.VideoCapture(0)\n",
    "            ret, img = cap.read()\n",
    "            cv2.imwrite(\"weixinTemp.jpg\", img)\n",
    "            itchat.send('@img@%s'%u'weixinTemp.jpg', 'filehelper')\n",
    "            cap.release()\n",
    "        if message[0:3] == \"cmd\":\n",
    "            os.system(message.strip(message[0:4]))\n",
    "        if message == \"ast\":\n",
    "            flag = 1\n",
    "            itchat.send(\"消息助手已开启\", \"filehelper\")\n",
    "        if message == \"astc\":\n",
    "            flag = 0\n",
    "            itchat.send(\"消息助手已关闭\", \"filehelper\")\n",
    "    elif flag == 1:\n",
    "        itchat.send(sendMsg, fromName)\n",
    "        myfile.write(message)\n",
    "        myfile.write(\"\\n\")\n",
    "        myfile.flush()\n",
    "\n",
    "if __name__ == '__main__':\n",
    "    itchat.auto_login()\n",
    "    itchat.send(usageMsg, \"filehelper\")\n",
    "    itchat.run()"
   ]
  },
  {
   "cell_type": "markdown",
   "metadata": {},
   "source": [
    "程序并不复杂，定义了一些发送的消息，然后通过调用 itchat 和 cv2 相关库的操作，即可实现。关于 itchat 库的一些操作，可以去网上找相关的文档。\n",
    "\n",
    "\n",
    "\n",
    "使用教程\n",
    "\n",
    "\n",
    "\n",
    "获取源代码，然后在你的电脑上运行。随后会弹出一个微信网页登录的二维码。"
   ]
  },
  {
   "cell_type": "markdown",
   "metadata": {},
   "source": [
    "https://mmbiz.qpic.cn/mmbiz_png/DUkHON5M6v3bhSUwwP704Y9O3IfX8o4XqeZSCDGHysfCHnr8icmXR8QOKo1Nc3OGQaGMPCcb0RHxKSpyHt4kvpg/640?wx_fmt=png&tp=webp&wxfrom=5&wx_lazy=1"
   ]
  },
  {
   "cell_type": "markdown",
   "metadata": {},
   "source": [
    "发送消息「cmd shutdown -s -t 0」即可让当前的电脑关闭。\n",
    "\n",
    "\n",
    "\n",
    "发送消息「cap」即可调用电脑摄像头拍摄当前用户，然后把图片发送到微信上。\n",
    "\n",
    "\n",
    "\n",
    "当然 cmd 命名还可以做更多有趣的事，大家可以自己去网上搜索下。"
   ]
  },
  {
   "cell_type": "code",
   "execution_count": null,
   "metadata": {},
   "outputs": [],
   "source": []
  }
 ],
 "metadata": {
  "kernelspec": {
   "display_name": "Python 3",
   "language": "python",
   "name": "python3"
  },
  "language_info": {
   "codemirror_mode": {
    "name": "ipython",
    "version": 3
   },
   "file_extension": ".py",
   "mimetype": "text/x-python",
   "name": "python",
   "nbconvert_exporter": "python",
   "pygments_lexer": "ipython3",
   "version": "3.6.3"
  }
 },
 "nbformat": 4,
 "nbformat_minor": 2
}
