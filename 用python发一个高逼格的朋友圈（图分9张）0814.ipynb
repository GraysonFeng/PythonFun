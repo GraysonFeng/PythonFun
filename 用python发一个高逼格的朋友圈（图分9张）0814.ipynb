{
 "cells": [
  {
   "cell_type": "code",
   "execution_count": 1,
   "metadata": {},
   "outputs": [],
   "source": [
    "from PIL import Image  \n",
    "import sys "
   ]
  },
  {
   "cell_type": "code",
   "execution_count": 2,
   "metadata": {},
   "outputs": [
    {
     "data": {
      "text/plain": [
       "'先将 input image 填充为正方形'"
      ]
     },
     "execution_count": 2,
     "metadata": {},
     "output_type": "execute_result"
    }
   ],
   "source": [
    "'''先将 input image 填充为正方形'''"
   ]
  },
  {
   "cell_type": "code",
   "execution_count": 6,
   "metadata": {},
   "outputs": [],
   "source": [
    "def fill_image(image):  \n",
    "    width, height = image.size      \n",
    "    #选取长和宽中较大值作为新图片的  \n",
    "    new_image_length = width if width > height else height      \n",
    "    #生成新图片[白底]  \n",
    "    new_image = Image.new(image.mode, (new_image_length, new_image_length), color='white')   #注意这个函数！  \n",
    "    #将之前的图粘贴在新图上，居中   \n",
    "    if width > height:#原图宽大于高，则填充图片的竖直维度  #(x,y)二元组表示粘贴上图相对下图的起始位置,是个坐标点。  \n",
    "        new_image.paste(image, (0, int((new_image_length - height) / 2)))  \n",
    "    else:  \n",
    "        new_image.paste(image, (int((new_image_length - width) / 2),0))      \n",
    "    return new_image  \n",
    "def cut_image(image):\n",
    "    width, height = image.size\n",
    "    item_width = int(width / 3)  #因为朋友圈一行放3张图。\n",
    "    box_list = []\n",
    "    # (left, upper, right, lower)\n",
    "    for i in range(0,3):\n",
    "        for j in range(0,3):\n",
    "            #print((i*item_width,j*item_width,(i+1)*item_width,(j+1)*item_width))\n",
    "            box = (j*item_width,i*item_width,(j+1)*item_width,(i+1)*item_width)\n",
    "            box_list.append(box)\n",
    "    image_list = [image.crop(box) for box in box_list]\n",
    "    return image_list\n",
    "#保存  \n",
    "def save_images(image_list):  \n",
    "    index = 1   \n",
    "    for image in image_list:  \n",
    "        image.save(str(index) + '.png', 'PNG')  \n",
    "        index += 1  \n",
    "\n",
    "if __name__ == '__main__':  \n",
    "    file_path = \"C:/Users/chen jia ni/Desktop/huangbo.JPEG\"  \n",
    "    image = Image.open(file_path)     \n",
    "    image.show()  \n",
    "    image = fill_image(image)  \n",
    "    image_list = cut_image(image)  \n",
    "    save_images(image_list) "
   ]
  },
  {
   "cell_type": "code",
   "execution_count": null,
   "metadata": {},
   "outputs": [],
   "source": []
  }
 ],
 "metadata": {
  "kernelspec": {
   "display_name": "Python 3",
   "language": "python",
   "name": "python3"
  },
  "language_info": {
   "codemirror_mode": {
    "name": "ipython",
    "version": 3
   },
   "file_extension": ".py",
   "mimetype": "text/x-python",
   "name": "python",
   "nbconvert_exporter": "python",
   "pygments_lexer": "ipython3",
   "version": "3.6.3"
  }
 },
 "nbformat": 4,
 "nbformat_minor": 2
}
