{
 "cells": [
  {
   "cell_type": "markdown",
   "metadata": {},
   "source": [
    "原文地址： https://mp.weixin.qq.com/s?src=11&timestamp=1534251334&ver=1060&signature=tr-JnyoiOdoLZwYvqe-0DnOPcWPUEvdSSFpI-KWMnh1HfL3nf3xJUvlX0aa18mR-LdLBd3r5w1WbGMIdFinZ*2uT5d42y36BxfaZ8kxqNsEZaBMxOeMBszmoLqQOmpiB&new=1"
   ]
  },
  {
   "cell_type": "markdown",
   "metadata": {},
   "source": [
    "故事的起因是上周六看《中国好声音》,一个周杰伦战队的学员用人工智能写的歌词，于是乎，我也有了这个想法，代码的主题思路是看Crossin先生的文章，虽然最后不能写出一首歌，但是押韵脚这事情分分钟搞定了"
   ]
  },
  {
   "cell_type": "markdown",
   "metadata": {},
   "source": [
    "主题的思路，就是先抓取很多首歌曲的歌词，利用jieba分词后，将分好的词按照押韵表进行分类，最后匹配查询就可以了"
   ]
  },
  {
   "cell_type": "markdown",
   "metadata": {},
   "source": [
    "## 准备一：押韵表"
   ]
  },
  {
   "cell_type": "markdown",
   "metadata": {},
   "source": [
    "这个地方可以去网上搜押韵表"
   ]
  },
  {
   "cell_type": "code",
   "execution_count": 1,
   "metadata": {},
   "outputs": [],
   "source": [
    "#引用各种需要的库\n",
    "import requests\n",
    "import jieba\n",
    "import re\n",
    "from xpinyin import Pinyin"
   ]
  },
  {
   "cell_type": "code",
   "execution_count": 2,
   "metadata": {},
   "outputs": [],
   "source": [
    "p = Pinyin()\n",
    "\n",
    "RhymeIndex = [('1', ['a', 'ia', 'ua']), ('2', ['ai', 'uai']), ('3', ['an', 'ian', 'uan']),\n",
    "              ('4', ['ang', 'iang', 'uang']), ('5', ['ao', 'iao']), ('6', ['e', 'o', 'uo']), ('7', ['ei', 'ui']),\n",
    "              ('8', ['en', 'in', 'un']), ('9', ['eng', 'ing', 'ong', 'iong']), ('10', ['er']), ('11', ['i']),\n",
    "              ('12', ['ie', 'ye']), ('13', ['ou', 'iu']), ('14', ['u']), ('16', ['ue']), ('15', ['qu', 'xu', 'yu'])]\n",
    "\n",
    "RhymeDct = {'ui': '7', 'uan': '3', 'ian': '3', 'iu': '13', 'en': '8', 'ue': '16', 'ing': '9', 'a': '1', 'ei': '7',\n",
    "            'eng': '9', 'uo': '6', 'ye': '12', 'in': '8', 'ou': '13', 'ao': '5', 'uang': '4', 'ong': '9', 'ang': '4',\n",
    "            'ai': '2', 'ua': '1', 'uai': '2', 'an': '3', 'iao': '5', 'ia': '1', 'ie': '12', 'iong': '9', 'i': '11',\n",
    "            'er': '10', 'e': '6', 'u': '14', 'un': '8', 'iang': '4', 'o': '6', 'qu': '15', 'xu': '15', 'yu': '15'}"
   ]
  },
  {
   "cell_type": "markdown",
   "metadata": {},
   "source": [
    "## 准备二：分词对应押韵表编码"
   ]
  },
  {
   "cell_type": "markdown",
   "metadata": {},
   "source": [
    "分好的词与押韵表对应起来，举个栗子，比如“没有”对应的是“7-13”，就等于你给每个词都贴了一个标签，这样你以后想搜索的时候，就可以根据标签找到这些词了"
   ]
  },
  {
   "cell_type": "code",
   "execution_count": 3,
   "metadata": {},
   "outputs": [],
   "source": [
    "def _analysis_words(words):\n",
    "        word_py =p.get_pinyin((u'{}'.format(words)))\n",
    "        lst_words = word_py.split('-')\n",
    "        r = []\n",
    "        for i in lst_words:\n",
    "            while True:\n",
    "                if not i:\n",
    "                    break\n",
    "                token = RhymeDct.get(i, None)\n",
    "                if token:\n",
    "                    r.append(token)\n",
    "                    break\n",
    "                i = i[1:]\n",
    "        if len(r) == len(words):\n",
    "            return '-'.join(r)"
   ]
  },
  {
   "cell_type": "markdown",
   "metadata": {},
   "source": [
    "## 第一步：爬虫抓取歌词信息"
   ]
  },
  {
   "cell_type": "markdown",
   "metadata": {},
   "source": [
    "这个地方数据爬取的越多，肯定你的词库就越壮大，后面分词也越高，我这里只爬取了3首歌曲的歌词，并且最后是存储到txt中，当然，放数据库里就更好了"
   ]
  },
  {
   "cell_type": "code",
   "execution_count": 4,
   "metadata": {},
   "outputs": [],
   "source": [
    "def GetKeyword():\n",
    "    #歌曲列表\n",
    "    # url = 'http://music.163.com/api/playlist/detail?id=808976784'\n",
    "    # req = requests.get(url)\n",
    "    # data = req.json()\n",
    "    # print(data['result']['tracks'] )\n",
    "    # tracks =data['result']['tracks']  #歌曲列表\n",
    "    tracks=[\"431795900\",'33850315','430053482']\n",
    "    #写入记事本文件\n",
    "    with open('keyword.txt','a') as f:\n",
    "        f.write(\"[\")\n",
    "        for i in tracks:\n",
    "            print(111)\n",
    "            #歌词\n",
    "            # lrcurl = \"http://music.163.com/api/song/lyric?os=pc&id=\"+str(i['id'])+\"&lv=-1&kv=-1&tv=-1\"\n",
    "            lrcurl = \"http://music.163.com/api/song/lyric?os=pc&id=\"+str(i)+\"&lv=-1&kv=-1&tv=-1\"\n",
    "            lrcreq = requests.get(lrcurl)\n",
    "            dt = lrcreq.json()\n",
    "            lrc=re.sub(u\"\\\\[.*?]\", \"\", dt['lrc']['lyric'])\n",
    "            #jieba分词\n",
    "            seg_list = list(jieba.cut(lrc, cut_all=True))\n",
    "            for i in seg_list:\n",
    "                #加入判断，只写入2个字组成的词\n",
    "                if len(i)==2:\n",
    "                    #写入格式：{'7-13':'追求'}\n",
    "                    if _analysis_words(i)!=None:\n",
    "                        f.write(\"{'\"+_analysis_words(i)+\"':'\"+i+\"'},\")\n",
    "        f.write(\"]\")\n",
    "        f.close()"
   ]
  },
  {
   "cell_type": "markdown",
   "metadata": {},
   "source": [
    "## 第二步：调用分词的方法"
   ]
  },
  {
   "cell_type": "code",
   "execution_count": 5,
   "metadata": {},
   "outputs": [
    {
     "name": "stdout",
     "output_type": "stream",
     "text": [
      "111\n"
     ]
    },
    {
     "name": "stderr",
     "output_type": "stream",
     "text": [
      "Building prefix dict from the default dictionary ...\n",
      "Loading model from cache C:\\Users\\CHENJI~1\\AppData\\Local\\Temp\\jieba.cache\n",
      "Loading model cost 1.354 seconds.\n",
      "Prefix dict has been built succesfully.\n"
     ]
    },
    {
     "name": "stdout",
     "output_type": "stream",
     "text": [
      "111\n",
      "111\n"
     ]
    }
   ],
   "source": [
    "GetKeyword()"
   ]
  },
  {
   "cell_type": "markdown",
   "metadata": {},
   "source": [
    "## 第三步：分析分词后的txt"
   ]
  },
  {
   "cell_type": "code",
   "execution_count": 6,
   "metadata": {},
   "outputs": [],
   "source": [
    "def Findkey(str):\n",
    "    result={}\n",
    "    with open('keyword.txt', 'r') as f:\n",
    "        # print(f.readlines())\n",
    "        list=eval(f.readlines()[0])\n",
    "        for item in list:\n",
    "            if item.get(str):\n",
    "                key=item.get(str)\n",
    "                number=result.get(key)\n",
    "                #如果一个词出现多次，进行次数累加，用来表示频次\n",
    "                if number !=None and number>=1:\n",
    "                    result[key]=number+1\n",
    "                else:\n",
    "                    result.update({key:1})\n",
    "        f.close()\n",
    "        print(result)"
   ]
  },
  {
   "cell_type": "markdown",
   "metadata": {},
   "source": [
    "## 第四步：程序入口"
   ]
  },
  {
   "cell_type": "code",
   "execution_count": 8,
   "metadata": {},
   "outputs": [
    {
     "name": "stdout",
     "output_type": "stream",
     "text": [
      "请输入关键词:妮妮\n",
      "匹配押韵的词：\n",
      "{'只是': 3, '一时': 1, '一直': 3, '实际': 1, '实意': 1, '吸气': 1, '里子': 1, '第一': 1, '细皮': 1, '七里': 1, '袭击': 1, '之一': 1, '仔细': 1}\n"
     ]
    }
   ],
   "source": [
    "key=input(\"请输入关键词:\")\n",
    "str=_analysis_words(key)\n",
    "print(\"匹配押韵的词：\")\n",
    "Findkey(str)"
   ]
  },
  {
   "cell_type": "markdown",
   "metadata": {},
   "source": [
    "## 第五步：创作自己的FreeStyle"
   ]
  },
  {
   "cell_type": "code",
   "execution_count": null,
   "metadata": {},
   "outputs": [],
   "source": []
  }
 ],
 "metadata": {
  "kernelspec": {
   "display_name": "Python 3",
   "language": "python",
   "name": "python3"
  },
  "language_info": {
   "codemirror_mode": {
    "name": "ipython",
    "version": 3
   },
   "file_extension": ".py",
   "mimetype": "text/x-python",
   "name": "python",
   "nbconvert_exporter": "python",
   "pygments_lexer": "ipython3",
   "version": "3.6.3"
  }
 },
 "nbformat": 4,
 "nbformat_minor": 2
}
